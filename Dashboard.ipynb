{
 "cells": [
  {
   "cell_type": "code",
   "execution_count": 1,
   "id": "41e3cedc",
   "metadata": {},
   "outputs": [
    {
     "name": "stdout",
     "output_type": "stream",
     "text": [
      "Cluster 7: quantum, distributed, computing, protocol, protocols, verification, process, program, processes, classical\n",
      "Cluster 4: quantum, learning, neural, propose, machine, classical, networks, network, control, systems\n",
      "Cluster 2: quan, tum, quantum, university, dissertation, thesis, proof, adolescent, dumachev, aghamohammadi\n",
      "Cluster 9: quantum, university, geometric, phase, spin, physics, states, state, adiabatic, study\n",
      "Cluster 17: code, codes, quantum, surface, error, qubits, qubit, logical, correction, fault\n",
      "Cluster 6: quantum, error, gravity, theory, field, black, holographic, correction, model, hole\n",
      "Cluster 30: quantum, codes, error, correcting, code, correction, errors, stabilizer, qubit, classical\n",
      "Cluster 31: quantum, error, codes, correction, code, channel, correcting, errors, information, channels\n",
      "Cluster 13: quantum, teleportation, entanglement, cloning, communication, states, state, information, propose, protocol\n",
      "Cluster 0: quantum, group, groups, graphs, algebras, theory, algebra, space, compact, spaces\n",
      "Cluster 27: quantum, error, correction, state, errors, qubit, fault, code, qubits, computer\n",
      "Cluster 29: quantum, fault, tolerant, computation, error, qubit, computing, qubits, based, code\n",
      "Cluster 22: quantum, qubit, gates, qubits, ion, gate, error, fidelity, trapped, propose\n",
      "Cluster 25: quantum, error, correction, entanglement, propose, operator, information, continuous, present, new\n",
      "Cluster 5: quantum, protocol, key, security, classical, scheme, based, information, secret, distribution\n",
      "Cluster 14: quantum, algorithm, hardware, propose, circuit, classical, algorithms, computing, model, computation\n",
      "Cluster 24: quantum, error, noise, mitigation, propose, method, circuit, extrapolation, based, errors\n",
      "Cluster 18: surface, decoding, code, codes, noise, decoder, propose, algorithm, matching, decoders\n",
      "Cluster 12: quantum, mechanics, theory, classical, physics, action, systems, probability, propose, states\n",
      "Cluster 1: quantum, walk, walks, time, graph, dimensional, state, present, computer, entanglement\n",
      "Cluster 26: quantum, codes, fault, tolerant, error, code, qubits, computation, logical, qubit\n",
      "Cluster 16: quantum, information, channels, classical, entropy, theory, channel, capacity, states, entanglement\n",
      "Cluster 19: codes, code, surface, color, based, toric, propose, new, state, lattice\n",
      "Cluster 10: quantum, topological, majorana, propose, non, fermions, state, based, dimensional, model\n",
      "Cluster 15: quantum, discord, measure, correlations, coherence, states, quantumness, correlation, entanglement, state\n",
      "Cluster 8: quantum, magic, state, states, distillation, clifford, circuits, gates, propose, codes\n",
      "Cluster 3: propose, topological, algorithm, overhead, fault, distributed, ftqc, tolerant, hybrid, based\n",
      "Cluster 21: quantum, qubit, propose, qubits, superconducting, logical, protected, based, gate, using\n",
      "Cluster 28: quantum, error, fault, threshold, computation, tolerant, qubits, noise, gates, codes\n",
      "Cluster 20: quantum, spin, optical, state, using, based, states, dots, dot, propose\n",
      "Cluster 11: quantum, thermal, critical, phase, coherence, state, dynamics, discord, heat, correlations\n",
      "Cluster 23: codes, quantum, eaqeccs, entanglement, mds, error, assisted, correcting, construct, parameters\n"
     ]
    }
   ],
   "source": [
    "import pandas as pd\n",
    "import os\n",
    "from sklearn.feature_extraction.text import TfidfVectorizer\n",
    "from collections import defaultdict\n",
    "import numpy as np\n",
    "\n",
    "# Load clustered file\n",
    "df = pd.read_csv(\"clustered_papers.csv\")\n",
    "input_folder = \"abstract_intro\"\n",
    "\n",
    "# Map cluster -> list of texts\n",
    "cluster_texts = defaultdict(list)\n",
    "\n",
    "for _, row in df.iterrows():\n",
    "    if row[\"cluster\"] == -1:\n",
    "        continue  # skip noise points\n",
    "    with open(os.path.join(input_folder, row[\"filename\"]), \"r\", encoding=\"utf-8\") as f:\n",
    "        text = f.read()\n",
    "        cluster_texts[row[\"cluster\"]].append(text)\n",
    "\n",
    "# Compute TF-IDF keywords per cluster\n",
    "top_k = 10\n",
    "cluster_keywords = {}\n",
    "\n",
    "for cluster_id, texts in cluster_texts.items():\n",
    "    vec = TfidfVectorizer(stop_words=\"english\", max_features=1000)\n",
    "    X = vec.fit_transform(texts)\n",
    "    scores = np.asarray(X.mean(axis=0)).flatten()\n",
    "    top_terms = [vec.get_feature_names_out()[i] for i in scores.argsort()[::-1][:top_k]]\n",
    "    cluster_keywords[cluster_id] = top_terms\n",
    "\n",
    "# Print sample keywords\n",
    "for cid, keywords in cluster_keywords.items():\n",
    "    print(f\"Cluster {cid}: {', '.join(keywords)}\")\n"
   ]
  },
  {
   "cell_type": "code",
   "execution_count": 3,
   "id": "7f905909",
   "metadata": {},
   "outputs": [
    {
     "name": "stdout",
     "output_type": "stream",
     "text": [
      "Requirement already satisfied: streamlit in c:\\users\\learn\\anaconda3\\lib\\site-packages (1.37.1)\n",
      "Requirement already satisfied: altair<6,>=4.0 in c:\\users\\learn\\anaconda3\\lib\\site-packages (from streamlit) (5.0.1)\n",
      "Requirement already satisfied: blinker<2,>=1.0.0 in c:\\users\\learn\\anaconda3\\lib\\site-packages (from streamlit) (1.6.2)\n",
      "Requirement already satisfied: cachetools<6,>=4.0 in c:\\users\\learn\\anaconda3\\lib\\site-packages (from streamlit) (5.3.3)\n",
      "Requirement already satisfied: click<9,>=7.0 in c:\\users\\learn\\anaconda3\\lib\\site-packages (from streamlit) (8.1.7)\n",
      "Requirement already satisfied: numpy<3,>=1.20 in c:\\users\\learn\\anaconda3\\lib\\site-packages (from streamlit) (1.26.4)\n",
      "Requirement already satisfied: packaging<25,>=20 in c:\\users\\learn\\anaconda3\\lib\\site-packages (from streamlit) (23.2)\n",
      "Requirement already satisfied: pandas<3,>=1.3.0 in c:\\users\\learn\\anaconda3\\lib\\site-packages (from streamlit) (2.2.2)\n",
      "Requirement already satisfied: pillow<11,>=7.1.0 in c:\\users\\learn\\anaconda3\\lib\\site-packages (from streamlit) (10.4.0)\n",
      "Requirement already satisfied: protobuf<6,>=3.20 in c:\\users\\learn\\anaconda3\\lib\\site-packages (from streamlit) (4.25.3)\n",
      "Requirement already satisfied: pyarrow>=7.0 in c:\\users\\learn\\anaconda3\\lib\\site-packages (from streamlit) (16.1.0)\n",
      "Requirement already satisfied: requests<3,>=2.27 in c:\\users\\learn\\anaconda3\\lib\\site-packages (from streamlit) (2.32.3)\n",
      "Requirement already satisfied: rich<14,>=10.14.0 in c:\\users\\learn\\anaconda3\\lib\\site-packages (from streamlit) (13.7.1)\n",
      "Requirement already satisfied: tenacity<9,>=8.1.0 in c:\\users\\learn\\anaconda3\\lib\\site-packages (from streamlit) (8.2.3)\n",
      "Requirement already satisfied: toml<2,>=0.10.1 in c:\\users\\learn\\anaconda3\\lib\\site-packages (from streamlit) (0.10.2)\n",
      "Requirement already satisfied: typing-extensions<5,>=4.3.0 in c:\\users\\learn\\anaconda3\\lib\\site-packages (from streamlit) (4.13.2)\n",
      "Requirement already satisfied: gitpython!=3.1.19,<4,>=3.0.7 in c:\\users\\learn\\anaconda3\\lib\\site-packages (from streamlit) (3.1.43)\n",
      "Requirement already satisfied: pydeck<1,>=0.8.0b4 in c:\\users\\learn\\anaconda3\\lib\\site-packages (from streamlit) (0.8.0)\n",
      "Requirement already satisfied: tornado<7,>=6.0.3 in c:\\users\\learn\\appdata\\roaming\\python\\python312\\site-packages (from streamlit) (6.4.1)\n",
      "Requirement already satisfied: watchdog<5,>=2.1.5 in c:\\users\\learn\\anaconda3\\lib\\site-packages (from streamlit) (4.0.1)\n",
      "Requirement already satisfied: jinja2 in c:\\users\\learn\\anaconda3\\lib\\site-packages (from altair<6,>=4.0->streamlit) (3.1.4)\n",
      "Requirement already satisfied: jsonschema>=3.0 in c:\\users\\learn\\anaconda3\\lib\\site-packages (from altair<6,>=4.0->streamlit) (4.23.0)\n",
      "Requirement already satisfied: toolz in c:\\users\\learn\\anaconda3\\lib\\site-packages (from altair<6,>=4.0->streamlit) (0.12.0)\n",
      "Requirement already satisfied: colorama in c:\\users\\learn\\appdata\\roaming\\python\\python312\\site-packages (from click<9,>=7.0->streamlit) (0.4.6)\n",
      "Requirement already satisfied: gitdb<5,>=4.0.1 in c:\\users\\learn\\anaconda3\\lib\\site-packages (from gitpython!=3.1.19,<4,>=3.0.7->streamlit) (4.0.7)\n",
      "Requirement already satisfied: python-dateutil>=2.8.2 in c:\\users\\learn\\anaconda3\\lib\\site-packages (from pandas<3,>=1.3.0->streamlit) (2.9.0.post0)\n",
      "Requirement already satisfied: pytz>=2020.1 in c:\\users\\learn\\anaconda3\\lib\\site-packages (from pandas<3,>=1.3.0->streamlit) (2024.1)\n",
      "Requirement already satisfied: tzdata>=2022.7 in c:\\users\\learn\\anaconda3\\lib\\site-packages (from pandas<3,>=1.3.0->streamlit) (2023.3)\n",
      "Requirement already satisfied: charset-normalizer<4,>=2 in c:\\users\\learn\\anaconda3\\lib\\site-packages (from requests<3,>=2.27->streamlit) (3.3.2)\n",
      "Requirement already satisfied: idna<4,>=2.5 in c:\\users\\learn\\anaconda3\\lib\\site-packages (from requests<3,>=2.27->streamlit) (3.7)\n",
      "Requirement already satisfied: urllib3<3,>=1.21.1 in c:\\users\\learn\\anaconda3\\lib\\site-packages (from requests<3,>=2.27->streamlit) (2.2.3)\n",
      "Requirement already satisfied: certifi>=2017.4.17 in c:\\users\\learn\\anaconda3\\lib\\site-packages (from requests<3,>=2.27->streamlit) (2024.8.30)\n",
      "Requirement already satisfied: markdown-it-py>=2.2.0 in c:\\users\\learn\\anaconda3\\lib\\site-packages (from rich<14,>=10.14.0->streamlit) (2.2.0)\n",
      "Requirement already satisfied: pygments<3.0.0,>=2.13.0 in c:\\users\\learn\\appdata\\roaming\\python\\python312\\site-packages (from rich<14,>=10.14.0->streamlit) (2.18.0)\n",
      "Requirement already satisfied: smmap<5,>=3.0.1 in c:\\users\\learn\\anaconda3\\lib\\site-packages (from gitdb<5,>=4.0.1->gitpython!=3.1.19,<4,>=3.0.7->streamlit) (4.0.0)\n",
      "Requirement already satisfied: MarkupSafe>=2.0 in c:\\users\\learn\\anaconda3\\lib\\site-packages (from jinja2->altair<6,>=4.0->streamlit) (2.1.3)\n",
      "Requirement already satisfied: attrs>=22.2.0 in c:\\users\\learn\\anaconda3\\lib\\site-packages (from jsonschema>=3.0->altair<6,>=4.0->streamlit) (23.1.0)\n",
      "Requirement already satisfied: jsonschema-specifications>=2023.03.6 in c:\\users\\learn\\anaconda3\\lib\\site-packages (from jsonschema>=3.0->altair<6,>=4.0->streamlit) (2023.7.1)\n",
      "Requirement already satisfied: referencing>=0.28.4 in c:\\users\\learn\\anaconda3\\lib\\site-packages (from jsonschema>=3.0->altair<6,>=4.0->streamlit) (0.30.2)\n",
      "Requirement already satisfied: rpds-py>=0.7.1 in c:\\users\\learn\\anaconda3\\lib\\site-packages (from jsonschema>=3.0->altair<6,>=4.0->streamlit) (0.10.6)\n",
      "Requirement already satisfied: mdurl~=0.1 in c:\\users\\learn\\anaconda3\\lib\\site-packages (from markdown-it-py>=2.2.0->rich<14,>=10.14.0->streamlit) (0.1.0)\n",
      "Requirement already satisfied: six>=1.5 in c:\\users\\learn\\anaconda3\\lib\\site-packages (from python-dateutil>=2.8.2->pandas<3,>=1.3.0->streamlit) (1.16.0)\n"
     ]
    },
    {
     "name": "stderr",
     "output_type": "stream",
     "text": [
      "WARNING: Ignoring invalid distribution ~rosperity3bt (C:\\Users\\learn\\anaconda3\\Lib\\site-packages)\n",
      "WARNING: Ignoring invalid distribution ~rosperity3bt (C:\\Users\\learn\\anaconda3\\Lib\\site-packages)\n",
      "WARNING: Ignoring invalid distribution ~rosperity3bt (C:\\Users\\learn\\anaconda3\\Lib\\site-packages)\n"
     ]
    }
   ],
   "source": [
    "! pip install streamlit\n"
   ]
  },
  {
   "cell_type": "code",
   "execution_count": null,
   "id": "99ef4843",
   "metadata": {},
   "outputs": [
    {
     "name": "stderr",
     "output_type": "stream",
     "text": [
      "2025-05-29 10:48:59.508 \n",
      "  \u001b[33m\u001b[1mWarning:\u001b[0m to view this Streamlit app on a browser, run it with the following\n",
      "  command:\n",
      "\n",
      "    streamlit run C:\\Users\\learn\\AppData\\Roaming\\Python\\Python312\\site-packages\\ipykernel_launcher.py [ARGUMENTS]\n"
     ]
    }
   ],
   "source": [
    "import streamlit as st\n",
    "import pandas as pd\n",
    "import os\n",
    "\n",
    "# Load clustering results\n",
    "df = pd.read_csv(\"clustered_papers.csv\")\n",
    "input_folder = \"abstract_intro\"\n",
    "\n",
    "# Sidebar filter\n",
    "st.sidebar.title(\"Cluster Filter\")\n",
    "cluster_ids = sorted(df[\"cluster\"].unique())\n",
    "selected = st.sidebar.multiselect(\"Select Cluster(s)\", cluster_ids, default=cluster_ids)\n",
    "\n",
    "# Main content\n",
    "st.title(\"Quantum Papers Cluster Viewer\")\n",
    "st.write(f\"Showing files from {len(selected)} clusters.\")\n",
    "\n",
    "filtered = df[df[\"cluster\"].isin(selected)]\n",
    "for _, row in filtered.iterrows():\n",
    "    st.markdown(f\"###  {row['filename']}\")\n",
    "    with open(os.path.join(input_folder, row[\"filename\"]), \"r\", encoding=\"utf-8\") as f:\n",
    "        st.write(f.read())\n",
    "    st.caption(f\"Cluster: {row['cluster']}\")\n",
    "    st.markdown(\"---\")\n"
   ]
  }
 ],
 "metadata": {
  "kernelspec": {
   "display_name": "base",
   "language": "python",
   "name": "base"
  },
  "language_info": {
   "codemirror_mode": {
    "name": "ipython",
    "version": 3
   },
   "file_extension": ".py",
   "mimetype": "text/x-python",
   "name": "python",
   "nbconvert_exporter": "python",
   "pygments_lexer": "ipython3",
   "version": "3.12.7"
  }
 },
 "nbformat": 4,
 "nbformat_minor": 5
}
